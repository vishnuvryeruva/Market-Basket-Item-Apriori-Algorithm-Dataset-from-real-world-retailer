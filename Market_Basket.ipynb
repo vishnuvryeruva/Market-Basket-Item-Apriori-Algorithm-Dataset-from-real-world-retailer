{
  "nbformat": 4,
  "nbformat_minor": 0,
  "metadata": {
    "colab": {
      "name": "Market Basket.ipynb",
      "provenance": [],
      "mount_file_id": "1zTTGSWkmKY7pQPk0eNF58OudzEZaEGwO",
      "authorship_tag": "ABX9TyOApuapnjFVHcP2x58pp4K2",
      "include_colab_link": true
    },
    "kernelspec": {
      "name": "python3",
      "display_name": "Python 3"
    },
    "language_info": {
      "name": "python"
    }
  },
  "cells": [
    {
      "cell_type": "markdown",
      "metadata": {
        "id": "view-in-github",
        "colab_type": "text"
      },
      "source": [
        "<a href=\"https://colab.research.google.com/github/vishnuvryeruva/Market-Basket-Item-Apriori-Algorithm-Dataset-from-real-world-retailer-/blob/main/Market_Basket.ipynb\" target=\"_parent\"><img src=\"https://colab.research.google.com/assets/colab-badge.svg\" alt=\"Open In Colab\"/></a>"
      ]
    },
    {
      "cell_type": "code",
      "metadata": {
        "colab": {
          "base_uri": "https://localhost:8080/"
        },
        "id": "RCdlBIMgzwkW",
        "outputId": "1ff7ec26-1170-472a-89c5-596559773234"
      },
      "source": [
        "!pip install apyori"
      ],
      "execution_count": 1,
      "outputs": [
        {
          "output_type": "stream",
          "name": "stdout",
          "text": [
            "Collecting apyori\n",
            "  Downloading apyori-1.1.2.tar.gz (8.6 kB)\n",
            "Building wheels for collected packages: apyori\n",
            "  Building wheel for apyori (setup.py) ... \u001b[?25l\u001b[?25hdone\n",
            "  Created wheel for apyori: filename=apyori-1.1.2-py3-none-any.whl size=5974 sha256=eaafc4ad27f444e815cf50d1aadc0affac1f9c2b554736411231f30760ab5b55\n",
            "  Stored in directory: /root/.cache/pip/wheels/cb/f6/e1/57973c631d27efd1a2f375bd6a83b2a616c4021f24aab84080\n",
            "Successfully built apyori\n",
            "Installing collected packages: apyori\n",
            "Successfully installed apyori-1.1.2\n"
          ]
        }
      ]
    },
    {
      "cell_type": "code",
      "metadata": {
        "id": "O85VNPeA_vz-"
      },
      "source": [
        "from apyori import apriori, load_transactions\n",
        "import pandas as pd\n",
        "import numpy as np"
      ],
      "execution_count": 2,
      "outputs": []
    },
    {
      "cell_type": "code",
      "metadata": {
        "id": "1hH25ulb_yv6"
      },
      "source": [
        "def predict(dataset, test, num_items):\n",
        "  length = np.array([len(i) for i in dataset[\"items\"]])\n",
        "  items = set()\n",
        "  for item in dataset[length == num_items][\"items\"]:\n",
        "    if all([True if i in item else False for i in test]) :\n",
        "      items.add(item)\n",
        "  return items"
      ],
      "execution_count": 3,
      "outputs": []
    },
    {
      "cell_type": "code",
      "metadata": {
        "id": "CnOCp2oV_z7c"
      },
      "source": [
        "min_support = 0.0045\n",
        "train_dataset = pd.read_csv(\"/content/drive/MyDrive/Market Basket/TRAIN-ARULES.csv\")\n",
        "test_dataset = pd.read_csv(\"/content/drive/MyDrive/Market Basket/testarules.csv\", keep_default_na = False).values\n",
        "num_test_items = [len(item) for item in test_dataset]\n",
        "test_dataset = [[\" \".join(i.split(\",\")) for i in j if i != \"\"] for j in test_dataset]\n",
        "train_dataset.product_name = [\"\".join(i.split(\",\")) for i in train_dataset.product_name]"
      ],
      "execution_count": 6,
      "outputs": []
    },
    {
      "cell_type": "code",
      "metadata": {
        "colab": {
          "base_uri": "https://localhost:8080/",
          "height": 423
        },
        "id": "z7TWxldqI5ug",
        "outputId": "7f8c28e3-a285-4cb3-cb92-f6c4f70b3bf1"
      },
      "source": [
        "train_dataset"
      ],
      "execution_count": 7,
      "outputs": [
        {
          "output_type": "execute_result",
          "data": {
            "text/html": [
              "<div>\n",
              "<style scoped>\n",
              "    .dataframe tbody tr th:only-of-type {\n",
              "        vertical-align: middle;\n",
              "    }\n",
              "\n",
              "    .dataframe tbody tr th {\n",
              "        vertical-align: top;\n",
              "    }\n",
              "\n",
              "    .dataframe thead th {\n",
              "        text-align: right;\n",
              "    }\n",
              "</style>\n",
              "<table border=\"1\" class=\"dataframe\">\n",
              "  <thead>\n",
              "    <tr style=\"text-align: right;\">\n",
              "      <th></th>\n",
              "      <th>order_id</th>\n",
              "      <th>user_id</th>\n",
              "      <th>product_name</th>\n",
              "    </tr>\n",
              "  </thead>\n",
              "  <tbody>\n",
              "    <tr>\n",
              "      <th>0</th>\n",
              "      <td>1483</td>\n",
              "      <td>90</td>\n",
              "      <td>Organic Pink Lemonade Bunny Fruit Snacks</td>\n",
              "    </tr>\n",
              "    <tr>\n",
              "      <th>1</th>\n",
              "      <td>1483</td>\n",
              "      <td>90</td>\n",
              "      <td>Dark Chocolate Minis</td>\n",
              "    </tr>\n",
              "    <tr>\n",
              "      <th>2</th>\n",
              "      <td>1483</td>\n",
              "      <td>90</td>\n",
              "      <td>Sparkling Water Natural Mango Essenced</td>\n",
              "    </tr>\n",
              "    <tr>\n",
              "      <th>3</th>\n",
              "      <td>1483</td>\n",
              "      <td>90</td>\n",
              "      <td>Peach-Pear Sparkling Water</td>\n",
              "    </tr>\n",
              "    <tr>\n",
              "      <th>4</th>\n",
              "      <td>1483</td>\n",
              "      <td>90</td>\n",
              "      <td>Organic Heritage Flakes Cereal</td>\n",
              "    </tr>\n",
              "    <tr>\n",
              "      <th>...</th>\n",
              "      <td>...</td>\n",
              "      <td>...</td>\n",
              "      <td>...</td>\n",
              "    </tr>\n",
              "    <tr>\n",
              "      <th>12958</th>\n",
              "      <td>3413579</td>\n",
              "      <td>84</td>\n",
              "      <td>Organic Avocado</td>\n",
              "    </tr>\n",
              "    <tr>\n",
              "      <th>12959</th>\n",
              "      <td>3413579</td>\n",
              "      <td>84</td>\n",
              "      <td>Guacamole</td>\n",
              "    </tr>\n",
              "    <tr>\n",
              "      <th>12960</th>\n",
              "      <td>3413579</td>\n",
              "      <td>84</td>\n",
              "      <td>Thin And Crispy Corn Tortilla Chips</td>\n",
              "    </tr>\n",
              "    <tr>\n",
              "      <th>12961</th>\n",
              "      <td>3413579</td>\n",
              "      <td>84</td>\n",
              "      <td>Original Veggie Straws</td>\n",
              "    </tr>\n",
              "    <tr>\n",
              "      <th>12962</th>\n",
              "      <td>3413579</td>\n",
              "      <td>84</td>\n",
              "      <td>Organic Wheat Square Crackers</td>\n",
              "    </tr>\n",
              "  </tbody>\n",
              "</table>\n",
              "<p>12963 rows × 3 columns</p>\n",
              "</div>"
            ],
            "text/plain": [
              "       order_id  user_id                              product_name\n",
              "0          1483       90  Organic Pink Lemonade Bunny Fruit Snacks\n",
              "1          1483       90                      Dark Chocolate Minis\n",
              "2          1483       90    Sparkling Water Natural Mango Essenced\n",
              "3          1483       90                Peach-Pear Sparkling Water\n",
              "4          1483       90            Organic Heritage Flakes Cereal\n",
              "...         ...      ...                                       ...\n",
              "12958   3413579       84                           Organic Avocado\n",
              "12959   3413579       84                                 Guacamole\n",
              "12960   3413579       84       Thin And Crispy Corn Tortilla Chips\n",
              "12961   3413579       84                    Original Veggie Straws\n",
              "12962   3413579       84             Organic Wheat Square Crackers\n",
              "\n",
              "[12963 rows x 3 columns]"
            ]
          },
          "metadata": {},
          "execution_count": 7
        }
      ]
    },
    {
      "cell_type": "code",
      "metadata": {
        "colab": {
          "base_uri": "https://localhost:8080/"
        },
        "id": "eUOIVJd6JRUn",
        "outputId": "a51d8636-9763-4a99-f3b3-3527ed74f864"
      },
      "source": [
        "test_dataset"
      ],
      "execution_count": 8,
      "outputs": [
        {
          "output_type": "execute_result",
          "data": {
            "text/plain": [
              "[['Dark Chocolate Minis',\n",
              "  'Organic Pink Lemonade Bunny Fruit Snacks',\n",
              "  'Peach-Pear Sparkling Water']]"
            ]
          },
          "metadata": {},
          "execution_count": 8
        }
      ]
    },
    {
      "cell_type": "code",
      "metadata": {
        "colab": {
          "base_uri": "https://localhost:8080/"
        },
        "id": "x81Ja3TxJSYX",
        "outputId": "a114c539-e798-434c-8f9d-022ea2667049"
      },
      "source": [
        "train_dataset.shape"
      ],
      "execution_count": 10,
      "outputs": [
        {
          "output_type": "execute_result",
          "data": {
            "text/plain": [
              "(12963, 3)"
            ]
          },
          "metadata": {},
          "execution_count": 10
        }
      ]
    },
    {
      "cell_type": "code",
      "metadata": {
        "colab": {
          "base_uri": "https://localhost:8080/"
        },
        "id": "YWona7M3JYe0",
        "outputId": "c49ff1a7-80d7-47ad-d133-ebe289b11fbb"
      },
      "source": [
        "train_dataset[train_dataset.order_id == 1483].shape"
      ],
      "execution_count": 11,
      "outputs": [
        {
          "output_type": "execute_result",
          "data": {
            "text/plain": [
              "(12, 3)"
            ]
          },
          "metadata": {},
          "execution_count": 11
        }
      ]
    },
    {
      "cell_type": "code",
      "metadata": {
        "colab": {
          "base_uri": "https://localhost:8080/"
        },
        "id": "8layOMqDJfSf",
        "outputId": "686fd886-2793-41fe-c49e-2b0cfa2abc57"
      },
      "source": [
        "train_dataset[train_dataset.user_id == 90].shape"
      ],
      "execution_count": 12,
      "outputs": [
        {
          "output_type": "execute_result",
          "data": {
            "text/plain": [
              "(670, 3)"
            ]
          },
          "metadata": {},
          "execution_count": 12
        }
      ]
    },
    {
      "cell_type": "code",
      "metadata": {
        "id": "sR9S1qjAJiS_"
      },
      "source": [
        "order_labels = train_dataset.order_id.unique()\n",
        "transactions = [train_dataset[train_dataset.order_id == i][\"product_name\"].tolist() for i in order_labels]"
      ],
      "execution_count": 13,
      "outputs": []
    },
    {
      "cell_type": "code",
      "metadata": {
        "colab": {
          "base_uri": "https://localhost:8080/"
        },
        "id": "FZiRZsQ7JkN5",
        "outputId": "a8dde7e0-4913-47dc-dc67-ebb99f594ba3"
      },
      "source": [
        "train = apriori(transactions = transactions, min_support = min_support)\n",
        "apriori_result = list(train)\n",
        "apriori_result = pd.DataFrame(apriori_result)\n",
        "apriori_result[\"confidence\"] = 0.0\n",
        "apriori_result[\"lift\"] = 0.0\n",
        "for i in range(apriori_result.shape[0]):\n",
        "  apriori_result[\"confidence\"][i] = apriori_result.ordered_statistics[i][0].confidence\n",
        "  apriori_result[\"lift\"][i] = apriori_result.ordered_statistics[i][0].lift\n",
        "  apriori_result[\"items\"][i] = tuple(apriori_result[\"items\"][i])\n",
        "apriori_result = apriori_result.drop(\"ordered_statistics\", axis = 1)"
      ],
      "execution_count": 14,
      "outputs": [
        {
          "output_type": "stream",
          "name": "stderr",
          "text": [
            "/usr/local/lib/python3.7/dist-packages/ipykernel_launcher.py:7: SettingWithCopyWarning: \n",
            "A value is trying to be set on a copy of a slice from a DataFrame\n",
            "\n",
            "See the caveats in the documentation: https://pandas.pydata.org/pandas-docs/stable/user_guide/indexing.html#returning-a-view-versus-a-copy\n",
            "  import sys\n",
            "/usr/local/lib/python3.7/dist-packages/ipykernel_launcher.py:8: SettingWithCopyWarning: \n",
            "A value is trying to be set on a copy of a slice from a DataFrame\n",
            "\n",
            "See the caveats in the documentation: https://pandas.pydata.org/pandas-docs/stable/user_guide/indexing.html#returning-a-view-versus-a-copy\n",
            "  \n",
            "/usr/local/lib/python3.7/dist-packages/ipykernel_launcher.py:9: SettingWithCopyWarning: \n",
            "A value is trying to be set on a copy of a slice from a DataFrame\n",
            "\n",
            "See the caveats in the documentation: https://pandas.pydata.org/pandas-docs/stable/user_guide/indexing.html#returning-a-view-versus-a-copy\n",
            "  if __name__ == '__main__':\n"
          ]
        }
      ]
    },
    {
      "cell_type": "code",
      "metadata": {
        "colab": {
          "base_uri": "https://localhost:8080/",
          "height": 206
        },
        "id": "ZZD0I7XAJlOV",
        "outputId": "83a29a40-d063-4921-c704-7b136e10775f"
      },
      "source": [
        "apriori_result.head()"
      ],
      "execution_count": 15,
      "outputs": [
        {
          "output_type": "execute_result",
          "data": {
            "text/html": [
              "<div>\n",
              "<style scoped>\n",
              "    .dataframe tbody tr th:only-of-type {\n",
              "        vertical-align: middle;\n",
              "    }\n",
              "\n",
              "    .dataframe tbody tr th {\n",
              "        vertical-align: top;\n",
              "    }\n",
              "\n",
              "    .dataframe thead th {\n",
              "        text-align: right;\n",
              "    }\n",
              "</style>\n",
              "<table border=\"1\" class=\"dataframe\">\n",
              "  <thead>\n",
              "    <tr style=\"text-align: right;\">\n",
              "      <th></th>\n",
              "      <th>items</th>\n",
              "      <th>support</th>\n",
              "      <th>confidence</th>\n",
              "      <th>lift</th>\n",
              "    </tr>\n",
              "  </thead>\n",
              "  <tbody>\n",
              "    <tr>\n",
              "      <th>0</th>\n",
              "      <td>(0% Greek Strained Yogurt,)</td>\n",
              "      <td>0.009873</td>\n",
              "      <td>0.009873</td>\n",
              "      <td>1.0</td>\n",
              "    </tr>\n",
              "    <tr>\n",
              "      <th>1</th>\n",
              "      <td>(100% Juice Variety Pack,)</td>\n",
              "      <td>0.004937</td>\n",
              "      <td>0.004937</td>\n",
              "      <td>1.0</td>\n",
              "    </tr>\n",
              "    <tr>\n",
              "      <th>2</th>\n",
              "      <td>(100% Premium Select Not From Concentrate Pure...</td>\n",
              "      <td>0.009168</td>\n",
              "      <td>0.009168</td>\n",
              "      <td>1.0</td>\n",
              "    </tr>\n",
              "    <tr>\n",
              "      <th>3</th>\n",
              "      <td>(100% Recycled Paper Towels,)</td>\n",
              "      <td>0.005642</td>\n",
              "      <td>0.005642</td>\n",
              "      <td>1.0</td>\n",
              "    </tr>\n",
              "    <tr>\n",
              "      <th>4</th>\n",
              "      <td>(1500 Pale Ale,)</td>\n",
              "      <td>0.014810</td>\n",
              "      <td>0.014810</td>\n",
              "      <td>1.0</td>\n",
              "    </tr>\n",
              "  </tbody>\n",
              "</table>\n",
              "</div>"
            ],
            "text/plain": [
              "                                               items  ...  lift\n",
              "0                        (0% Greek Strained Yogurt,)  ...   1.0\n",
              "1                         (100% Juice Variety Pack,)  ...   1.0\n",
              "2  (100% Premium Select Not From Concentrate Pure...  ...   1.0\n",
              "3                      (100% Recycled Paper Towels,)  ...   1.0\n",
              "4                                   (1500 Pale Ale,)  ...   1.0\n",
              "\n",
              "[5 rows x 4 columns]"
            ]
          },
          "metadata": {},
          "execution_count": 15
        }
      ]
    },
    {
      "cell_type": "code",
      "metadata": {
        "id": "LaqQMpeRKA_g"
      },
      "source": [
        "result = {}\n",
        "for i, (test_row, num_test_row) in enumerate(zip(test_dataset, num_test_items)):\n",
        "  result[\"row \" + str(i)] = predict(apriori_result, test_row, num_test_row)"
      ],
      "execution_count": 16,
      "outputs": []
    },
    {
      "cell_type": "code",
      "metadata": {
        "colab": {
          "base_uri": "https://localhost:8080/"
        },
        "id": "5sMwh0jUKBtr",
        "outputId": "2408df38-52a5-4b8b-8d7a-37be8478610d"
      },
      "source": [
        "test_dataset"
      ],
      "execution_count": 17,
      "outputs": [
        {
          "output_type": "execute_result",
          "data": {
            "text/plain": [
              "[['Dark Chocolate Minis',\n",
              "  'Organic Pink Lemonade Bunny Fruit Snacks',\n",
              "  'Peach-Pear Sparkling Water']]"
            ]
          },
          "metadata": {},
          "execution_count": 17
        }
      ]
    },
    {
      "cell_type": "code",
      "metadata": {
        "colab": {
          "base_uri": "https://localhost:8080/"
        },
        "id": "MUhyVtnnKFIw",
        "outputId": "48586e56-e6db-461c-af18-0e15fedde8a8"
      },
      "source": [
        "for i,item in enumerate(result.keys()):\n",
        "  print(\"Basket items prediction for transaction:-\\n\\n Transaction\",i+1,\": {\",\" ,\".join(test_dataset[i]),\"}\\n\")\n",
        "  for j,pred in enumerate(result[item]):\n",
        "    print(str(j+1)+\". {\"+\", \".join(set(pred).difference(test_dataset[i])),\"}\")\n",
        "  print(\"\\n\")"
      ],
      "execution_count": 18,
      "outputs": [
        {
          "output_type": "stream",
          "name": "stdout",
          "text": [
            "Basket items prediction for transaction:-\n",
            "\n",
            " Transaction 1 : { Dark Chocolate Minis ,Organic Pink Lemonade Bunny Fruit Snacks ,Peach-Pear Sparkling Water }\n",
            "\n",
            "1. {Maple Pumpkin Seeds with Sea Salt Chewy with a Crunch Granola Bars, Organic Heritage Flakes Cereal }\n",
            "2. {Sparkling Water Natural Mango Essenced, Organic Heritage Flakes Cereal }\n",
            "3. {Sparkling Water Natural Mango Essenced, Organic Graham Crunch Cereal }\n",
            "4. {Organic Heritage Flakes Cereal, Organic Graham Crunch Cereal }\n",
            "\n",
            "\n"
          ]
        }
      ]
    }
  ]
}